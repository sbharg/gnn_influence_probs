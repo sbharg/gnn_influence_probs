{
 "cells": [
  {
   "cell_type": "code",
   "execution_count": 10,
   "metadata": {},
   "outputs": [],
   "source": [
    "import time\n",
    "import networkx as nx\n",
    "import numpy as np\n",
    "from pathlib import Path\n",
    "import scipy as sp\n",
    "rng = np.random.default_rng()\n",
    "from collections import deque"
   ]
  },
  {
   "cell_type": "code",
   "execution_count": 14,
   "metadata": {},
   "outputs": [],
   "source": [
    "gname = \"ego-facebook\"\n",
    "\n",
    "gnn_path = Path(f\"results/gnn/{gname}_50.mtx\")\n",
    "slicer_path = Path(f\"results/slicer/{gname}_50.mtx\")\n",
    "actual_path = Path(f\"datasets/real/{gname}/graph.mtx\")\n",
    "\n",
    "imm_gnn = Path(f\"IMM/{gname}-gnn/\")\n",
    "imm_slicer= Path(f\"IMM/{gname}-slicer/\")\n",
    "imm_actual = Path(f\"IMM/{gname}-actual/\")\n",
    "\n",
    "with open(gnn_path, \"rb\") as fh:\n",
    "  G_gnn = nx.from_scipy_sparse_array(sp.io.mmread(fh), create_using=nx.DiGraph)\n",
    "with open(slicer_path, \"rb\") as fh:\n",
    "  G_slicer = nx.from_scipy_sparse_array(sp.io.mmread(fh), create_using=nx.DiGraph)\n",
    "with open(actual_path, \"rb\") as fh:\n",
    "  G_actual = nx.from_scipy_sparse_array(sp.io.mmread(fh), create_using=nx.DiGraph)"
   ]
  },
  {
   "cell_type": "code",
   "execution_count": 15,
   "metadata": {},
   "outputs": [],
   "source": [
    "with open(imm_gnn / \"attribute.txt\", \"w\") as fh:\n",
    "    fh.write(f\"n={G_gnn.number_of_nodes()}\\n\")\n",
    "    fh.write(f\"m={G_gnn.number_of_edges()}\\n\")\n",
    "with open(imm_gnn / \"graph.txt\", \"wb\") as fh:\n",
    "    nx.write_edgelist(G_gnn, fh, data=False)\n",
    "with open(imm_gnn / \"graph_ic.inf\", \"wb\") as fh:\n",
    "    nx.write_edgelist(G_gnn, fh, data=['weight'])\n",
    "\n",
    "with open(imm_slicer / \"attribute.txt\", \"w\") as fh:\n",
    "    fh.write(f\"n={G_slicer.number_of_nodes()}\\n\")\n",
    "    fh.write(f\"m={G_slicer.number_of_edges()}\\n\")\n",
    "with open(imm_slicer / \"graph.txt\", \"wb\") as fh:\n",
    "    nx.write_edgelist(G_slicer, fh, data=False)\n",
    "with open(imm_slicer / \"graph_ic.inf\", \"wb\") as fh:\n",
    "    nx.write_edgelist(G_slicer, fh, data=['weight'])\n",
    "\n",
    "with open(imm_actual / \"attribute.txt\", \"w\") as fh:\n",
    "    fh.write(f\"n={G_actual.number_of_nodes()}\\n\")\n",
    "    fh.write(f\"m={G_actual.number_of_edges()}\\n\")\n",
    "with open(imm_actual / \"graph.txt\", \"wb\") as fh:\n",
    "    nx.write_edgelist(G_actual, fh, data=False)\n",
    "with open(imm_actual / \"graph_ic.inf\", \"wb\") as fh:\n",
    "    nx.write_edgelist(G_actual, fh, data=['weight'])"
   ]
  },
  {
   "cell_type": "code",
   "execution_count": 24,
   "metadata": {},
   "outputs": [],
   "source": [
    "def monte_carlo_trial(G: nx.DiGraph, seed_nodes: list[int]):\n",
    "    activated_nodes = set(seed_nodes)\n",
    "    queue = deque(seed_nodes)\n",
    "    while queue:\n",
    "        node = queue.popleft()\n",
    "        for neighbor in G.neighbors(node):\n",
    "            if neighbor not in activated_nodes and rng.random() <= G[node][neighbor]['weight']:\n",
    "                activated_nodes.add(neighbor)\n",
    "                queue.append(neighbor)\n",
    "    return len(activated_nodes)\n",
    "\n",
    "def monto_carlo_spread(G: nx.DiGraph, seed_nodes: list[int], T: int = 5000):\n",
    "    total_spread = 0\n",
    "    for _ in range(T):\n",
    "        total_spread += monte_carlo_trial(G, seed_nodes)\n",
    "    return total_spread / T\n"
   ]
  },
  {
   "cell_type": "code",
   "execution_count": 25,
   "metadata": {},
   "outputs": [],
   "source": [
    "gnn_seeds = [\n",
    "    [0],\n",
    "    [136, 3974,],\n",
    "    [107, 3974, 3410, 3266,],\n",
    "    [351, 3833, 3434, 3266, 342, 3917, 3815, 3786,],\n",
    "    [107, 3833, 3522, 3266, 186, 3836, 1374, 3779, 4011, 3790, 3265, 2335, 1513, 3329, 3267, 1198,],\n",
    "    [107, 3841, 3766, 3266, 186, 3858, 3818, 3267, 1513, 488, 3785, 2037, 1562, 3812, 3860, 640, 4038, 3921, 1793, 3790, 1374, 4029, 3786, 756, 3979, 3791, 4035, 3692, 2202, 112, 3987, 3978,],\n",
    "]\n",
    "\n",
    "slicer_seeds = [\n",
    "    [134],\n",
    "    [0, 1884,],\n",
    "    [223, 1993, 1827, 2282,],\n",
    "    [72, 1854, 1827, 2282, 3882, 4021, 1759, 2425,],\n",
    "    [104, 1983, 1827, 2282, 1792, 4000, 1572, 3655, 1072, 89, 259, 2031, 1857, 597, 2864, 1820,],\n",
    "    [297, 1851, 1827, 2282, 1742, 4031, 1836, 3682, 4038, 597, 1512, 2596, 91, 2018, 310, 1830, 2528, 2012, 624, 1943, 1572, 102, 1947, 2028, 2344, 1339, 166, 2004, 83, 2030, 190, 591,],\n",
    "]\n",
    "\n",
    "actual_seeds = [\n",
    "    [107],\n",
    "    [107, 1858,],\n",
    "    [107, 1864, 3517, 186,],\n",
    "    [351, 1973, 3492, 25, 1827, 2642, 3652, 1513,],\n",
    "    [136, 1831, 3851, 277, 1827, 312, 3879, 4031, 2425, 1794, 2016, 3179, 1381, 2442, 2834, 2307,],\n",
    "    [136, 1831, 3626, 109, 1827, 3761, 162, 2489, 3996, 1513, 2642, 175, 4, 3687, 2016, 4027, 2831, 3717, 1913, 3122, 2010, 3303, 337, 1793, 2033, 2657, 1339, 3905, 3722, 2596, 115, 3882,],\n",
    "]"
   ]
  },
  {
   "cell_type": "code",
   "execution_count": null,
   "metadata": {},
   "outputs": [],
   "source": [
    "spreads = []\n",
    "for i in range(len(actual_seeds)):\n",
    "    gnn_spread = monto_carlo_spread(G_actual, gnn_seeds[i])\n",
    "    slicer_spread = monto_carlo_spread(G_actual, slicer_seeds[i])\n",
    "    actual_spread = monto_carlo_spread(G_actual, actual_seeds[i])\n",
    "    spreads.append([gnn_spread, slicer_spread, actual_spread])"
   ]
  },
  {
   "cell_type": "code",
   "execution_count": 22,
   "metadata": {},
   "outputs": [
    {
     "name": "stdout",
     "output_type": "stream",
     "text": [
      "╒═════╤═════════╤══════════╤════════════════╕\n",
      "│   k │     GNN │   Slicer │   Ground Truth │\n",
      "╞═════╪═════════╪══════════╪════════════════╡\n",
      "│   1 │ 2744.39 │  2450.47 │        2928.41 │\n",
      "├─────┼─────────┼──────────┼────────────────┤\n",
      "│   2 │ 2941.84 │  2920.99 │        3030.8  │\n",
      "├─────┼─────────┼──────────┼────────────────┤\n",
      "│   4 │ 2941.41 │  2942.73 │        3071.72 │\n",
      "├─────┼─────────┼──────────┼────────────────┤\n",
      "│   8 │ 2983.83 │  3053.37 │        3091.14 │\n",
      "├─────┼─────────┼──────────┼────────────────┤\n",
      "│  16 │ 2993.74 │  3093.97 │        3107    │\n",
      "├─────┼─────────┼──────────┼────────────────┤\n",
      "│  32 │ 3024.28 │  3113.64 │        3118.72 │\n",
      "╘═════╧═════════╧══════════╧════════════════╛\n"
     ]
    }
   ],
   "source": [
    "from tabulate import tabulate\n",
    "\n",
    "headers = ['k', 'GNN', 'Slicer', 'Ground Truth']\n",
    "table = [headers]\n",
    "for i in range(len(spreads)):\n",
    "    k = 2**i\n",
    "    table.append([f\"{k}\", *spreads[i]])\n",
    "print(tabulate(table, headers='firstrow', tablefmt='fancy_grid'))"
   ]
  }
 ],
 "metadata": {
  "kernelspec": {
   "display_name": ".venv",
   "language": "python",
   "name": "python3"
  },
  "language_info": {
   "codemirror_mode": {
    "name": "ipython",
    "version": 3
   },
   "file_extension": ".py",
   "mimetype": "text/x-python",
   "name": "python",
   "nbconvert_exporter": "python",
   "pygments_lexer": "ipython3",
   "version": "3.12.7"
  }
 },
 "nbformat": 4,
 "nbformat_minor": 2
}
