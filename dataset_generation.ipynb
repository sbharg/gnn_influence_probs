{
 "cells": [
  {
   "cell_type": "code",
   "execution_count": 53,
   "metadata": {},
   "outputs": [],
   "source": [
    "import random\n",
    "import io\n",
    "import networkx as nx\n",
    "import scipy as sp\n",
    "import numpy as np\n",
    "rng = np.random.default_rng()\n",
    "from collections import deque\n",
    "from pathlib import Path"
   ]
  },
  {
   "cell_type": "code",
   "execution_count": 51,
   "metadata": {},
   "outputs": [],
   "source": [
    "def monte_carlo_diffusion(G: nx.DiGraph, k: int):\n",
    "  seed_nodes = [i.item() for i in rng.choice(list(G.nodes()), k, replace=False)]\n",
    "  activated_nodes = set(seed_nodes)\n",
    "  queue = deque(seed_nodes)\n",
    "  diffusion_edges = []\n",
    "  diffusion_timestamp_map = {}\n",
    "  for node in seed_nodes:\n",
    "    diffusion_timestamp_map[node] = 0\n",
    "  while queue:\n",
    "    node = queue.popleft()\n",
    "    for neighbor in G.neighbors(node):\n",
    "      if neighbor not in activated_nodes:\n",
    "        if rng.random() < G[node][neighbor]['weight']:\n",
    "          activated_nodes.add(neighbor)\n",
    "          queue.append(neighbor)\n",
    "          diffusion_edges.append((node, neighbor))\n",
    "          diffusion_timestamp_map[neighbor] = diffusion_timestamp_map[node] + 1\n",
    "  \n",
    "  n = G.number_of_nodes()\n",
    "  diffusion_timestamp_temp = [[] for _ in range(n)]\n",
    "  diffusion_timestamp = []\n",
    "  for k, v in diffusion_timestamp_map.items():\n",
    "    diffusion_timestamp_temp[v].append(k)\n",
    "\n",
    "  for t in range(len(diffusion_timestamp_temp)):\n",
    "    if len(diffusion_timestamp_temp[t]) > 0:\n",
    "      diffusion_timestamp.append(diffusion_timestamp_temp[t])\n",
    "\n",
    "  return diffusion_edges, diffusion_timestamp"
   ]
  },
  {
   "cell_type": "markdown",
   "metadata": {},
   "source": [
    "Erdos-Renyi"
   ]
  },
  {
   "cell_type": "code",
   "execution_count": 65,
   "metadata": {},
   "outputs": [
    {
     "name": "stdout",
     "output_type": "stream",
     "text": [
      "19997118\n"
     ]
    }
   ],
   "source": [
    "n = 10000\n",
    "p = 0.2\n",
    "G = nx.fast_gnp_random_graph(n, p, directed=True)\n",
    "print(G.number_of_edges())\n",
    "\n",
    "for (u,v,w) in G.edges(data=True):\n",
    "    w['weight'] = random.uniform(0, 0.3)\n",
    "\n",
    "fname = f\"er_{n}_{str(p).replace('.', '')}\"\n",
    "fh = open(f\"./datasets/synthetic/{fname}/{fname}.mtx\", \"wb\")\n",
    "m = nx.to_scipy_sparse_array(G)\n",
    "sp.io.mmwrite(fh, m, precision=5)"
   ]
  },
  {
   "cell_type": "code",
   "execution_count": 66,
   "metadata": {},
   "outputs": [],
   "source": [
    "n = 10000\n",
    "p = 0.2\n",
    "\n",
    "fname = f\"er_{n}_{str(p).replace('.', '')}\"\n",
    "pdir = Path(f\"./datasets/synthetic/{fname}\")\n",
    "pdir_graph = Path(f\"./datasets/synthetic/{fname}/{fname}.mtx\")\n",
    "pdir_diffusion = Path(f\"./datasets/synthetic/{fname}/diffusions\")\n",
    "pdir_timestamps = pdir_diffusion / \"timestamps/\"\n",
    "pdir_edges = pdir_diffusion / \"edges/\"\n",
    "\n",
    "pdir_timestamps.mkdir(parents=True, exist_ok=True)\n",
    "pdir_edges.mkdir(parents=True, exist_ok=True)\n",
    "\n",
    "with pdir_graph.open(\"rb\") as fh:\n",
    "  G = nx.from_scipy_sparse_array(sp.io.mmread(fh), create_using=nx.DiGraph)\n",
    "\n",
    "for i in range(200):\n",
    "  d_edges, d_timestamp = monte_carlo_diffusion(G, 1)\n",
    "  p_ts = pdir_timestamps / f\"{i}.txt\"\n",
    "  p_edges = pdir_edges / f\"{i}.edgelist\"\n",
    "  with p_ts.open(\"w\") as fh:\n",
    "    for ts in d_timestamp:\n",
    "      fh.write(\" \".join(map(str, ts)) + \"\\n\")\n",
    "  with p_edges.open(\"w\") as fh:\n",
    "    fh.write(f\"#Source Target\\n\")\n",
    "    for e in d_edges:\n",
    "      fh.write(\" \".join(map(str, e)) + \"\\n\")"
   ]
  },
  {
   "cell_type": "markdown",
   "metadata": {},
   "source": [
    "Scale Free"
   ]
  },
  {
   "cell_type": "code",
   "execution_count": 72,
   "metadata": {},
   "outputs": [
    {
     "name": "stdout",
     "output_type": "stream",
     "text": [
      "21449\n"
     ]
    }
   ],
   "source": [
    "n = 10000\n",
    "a = 0.41\n",
    "b = 0.54\n",
    "c = 0.05\n",
    "G = nx.scale_free_graph(n, a, b, c)\n",
    "print(G.number_of_edges())\n",
    "\n",
    "for (u,v,w) in G.edges(data=True):\n",
    "    w['weight'] = random.uniform(0, 0.3)\n",
    "\n",
    "fname = f\"sf_{n}_{str(a).replace('.', '')}_{str(b).replace('.', '')}_{str(c).replace('.', '')}\"\n",
    "fh = open(f\"./datasets/synthetic/{fname}/{fname}.mtx\", \"wb\")\n",
    "m = nx.to_scipy_sparse_array(G)\n",
    "sp.io.mmwrite(fh, m, precision=5)"
   ]
  },
  {
   "cell_type": "code",
   "execution_count": 74,
   "metadata": {},
   "outputs": [],
   "source": [
    "n = 1000\n",
    "a = 0.41\n",
    "b = 0.54\n",
    "c = 0.05\n",
    "\n",
    "fname = f\"sf_{n}_{str(a).replace('.', '')}_{str(b).replace('.', '')}_{str(c).replace('.', '')}\"\n",
    "pdir = Path(f\"./datasets/synthetic/{fname}\")\n",
    "pdir_graph = Path(f\"./datasets/synthetic/{fname}/{fname}.mtx\")\n",
    "pdir_diffusion = Path(f\"./datasets/synthetic/{fname}/diffusions\")\n",
    "pdir_timestamps = pdir_diffusion / \"timestamps/\"\n",
    "pdir_edges = pdir_diffusion / \"edges/\"\n",
    "\n",
    "pdir_timestamps.mkdir(parents=True, exist_ok=True)\n",
    "pdir_edges.mkdir(parents=True, exist_ok=True)\n",
    "\n",
    "with pdir_graph.open(\"rb\") as fh:\n",
    "  G = nx.from_scipy_sparse_array(sp.io.mmread(fh), create_using=nx.DiGraph)\n",
    "\n",
    "for i in range(200):\n",
    "  d_edges, d_timestamp = monte_carlo_diffusion(G, 1)\n",
    "  p_ts = pdir_timestamps / f\"{i}.txt\"\n",
    "  p_edges = pdir_edges / f\"{i}.edgelist\"\n",
    "  with p_ts.open(\"w\") as fh:\n",
    "    for ts in d_timestamp:\n",
    "      fh.write(\" \".join(map(str, ts)) + \"\\n\")\n",
    "  with p_edges.open(\"w\") as fh:\n",
    "    fh.write(f\"#Source Target\\n\")\n",
    "    for e in d_edges:\n",
    "      fh.write(\" \".join(map(str, e)) + \"\\n\")"
   ]
  },
  {
   "cell_type": "markdown",
   "metadata": {},
   "source": [
    "Real World Networks"
   ]
  },
  {
   "cell_type": "code",
   "execution_count": 75,
   "metadata": {},
   "outputs": [],
   "source": [
    "fh = open(\"./graphs/higgs-social_network.edgelist\", \"rb\")\n",
    "G = nx.read_edgelist(fh, create_using=nx.DiGraph)\n",
    "fh.close()\n",
    "\n",
    "for (u,v,w) in G.edges(data=True):\n",
    "    w['weight'] = random.uniform(0, 0.3)\n",
    "\n",
    "fname = \"higgs\"\n",
    "fh = open(f\"./datasets/real/{fname}/{fname}.mtx\", \"wb\")\n",
    "m = nx.to_scipy_sparse_array(G)\n",
    "sp.io.mmwrite(fh, m, precision=5)"
   ]
  },
  {
   "cell_type": "code",
   "execution_count": 76,
   "metadata": {},
   "outputs": [],
   "source": [
    "fname = \"higgs\"\n",
    "pdir = Path(f\"./datasets/real/{fname}\")\n",
    "pdir_graph = Path(f\"./datasets/real/{fname}/{fname}.mtx\")\n",
    "pdir_diffusion = Path(f\"./datasets/real/{fname}/diffusions\")\n",
    "pdir_timestamps = pdir_diffusion / \"timestamps/\"\n",
    "pdir_edges = pdir_diffusion / \"edges/\"\n",
    "\n",
    "pdir_timestamps.mkdir(parents=True, exist_ok=True)\n",
    "pdir_edges.mkdir(parents=True, exist_ok=True)\n",
    "\n",
    "with pdir_graph.open(\"rb\") as fh:\n",
    "  G = nx.from_scipy_sparse_array(sp.io.mmread(fh), create_using=nx.DiGraph)\n",
    "\n",
    "for i in range(200):\n",
    "  d_edges, d_timestamp = monte_carlo_diffusion(G, 1)\n",
    "  p_ts = pdir_timestamps / f\"{i}.txt\"\n",
    "  p_edges = pdir_edges / f\"{i}.edgelist\"\n",
    "  with p_ts.open(\"w\") as fh:\n",
    "    for ts in d_timestamp:\n",
    "      fh.write(\" \".join(map(str, ts)) + \"\\n\")\n",
    "  with p_edges.open(\"w\") as fh:\n",
    "    fh.write(f\"#Source Target\\n\")\n",
    "    for e in d_edges:\n",
    "      fh.write(\" \".join(map(str, e)) + \"\\n\")"
   ]
  },
  {
   "cell_type": "code",
   "execution_count": 78,
   "metadata": {},
   "outputs": [],
   "source": [
    "fh = open(\"./graphs/twitter_combined.txt\", \"rb\")\n",
    "G = nx.read_edgelist(fh, create_using=nx.DiGraph, nodetype=int)\n",
    "\n",
    "for (u,v,w) in G.edges(data=True):\n",
    "    w['weight'] = random.uniform(0, 0.3)\n",
    "\n",
    "fname = \"ego-twitter\"\n",
    "fh = open(f\"./datasets/real/{fname}/{fname}.mtx\", \"wb\")\n",
    "m = nx.to_scipy_sparse_array(G)\n",
    "sp.io.mmwrite(fh, m, precision=5)"
   ]
  },
  {
   "cell_type": "code",
   "execution_count": 79,
   "metadata": {},
   "outputs": [],
   "source": [
    "fname = \"ego-twitter\"\n",
    "pdir = Path(f\"./datasets/real/{fname}\")\n",
    "pdir_graph = Path(f\"./datasets/real/{fname}/{fname}.mtx\")\n",
    "pdir_diffusion = Path(f\"./datasets/real/{fname}/diffusions\")\n",
    "pdir_timestamps = pdir_diffusion / \"timestamps/\"\n",
    "pdir_edges = pdir_diffusion / \"edges/\"\n",
    "\n",
    "pdir_timestamps.mkdir(parents=True, exist_ok=True)\n",
    "pdir_edges.mkdir(parents=True, exist_ok=True)\n",
    "\n",
    "with pdir_graph.open(\"rb\") as fh:\n",
    "  G = nx.from_scipy_sparse_array(sp.io.mmread(fh), create_using=nx.DiGraph)\n",
    "\n",
    "for i in range(200):\n",
    "  d_edges, d_timestamp = monte_carlo_diffusion(G, 1)\n",
    "  p_ts = pdir_timestamps / f\"{i}.txt\"\n",
    "  p_edges = pdir_edges / f\"{i}.edgelist\"\n",
    "  with p_ts.open(\"w\") as fh:\n",
    "    for ts in d_timestamp:\n",
    "      fh.write(\" \".join(map(str, ts)) + \"\\n\")\n",
    "  with p_edges.open(\"w\") as fh:\n",
    "    fh.write(f\"#Source Target\\n\")\n",
    "    for e in d_edges:\n",
    "      fh.write(\" \".join(map(str, e)) + \"\\n\")"
   ]
  },
  {
   "cell_type": "code",
   "execution_count": 80,
   "metadata": {},
   "outputs": [],
   "source": [
    "fh = open(\"./graphs/facebook_combined.txt\", \"rb\")\n",
    "G = nx.read_edgelist(fh, create_using=nx.Graph, nodetype=int)\n",
    "\n",
    "G = G.to_directed()\n",
    "for (u,v,w) in G.edges(data=True):\n",
    "    w['weight'] = random.uniform(0, 0.3)\n",
    "\n",
    "fname = \"ego-facebook\"\n",
    "fh = open(f\"./datasets/real/{fname}/{fname}.mtx\", \"wb\")\n",
    "m = nx.to_scipy_sparse_array(G)\n",
    "sp.io.mmwrite(fh, m, precision=5)"
   ]
  },
  {
   "cell_type": "code",
   "execution_count": 81,
   "metadata": {},
   "outputs": [],
   "source": [
    "fname = \"ego-facebook\"\n",
    "pdir = Path(f\"./datasets/real/{fname}\")\n",
    "pdir_graph = Path(f\"./datasets/real/{fname}/{fname}.mtx\")\n",
    "pdir_diffusion = Path(f\"./datasets/real/{fname}/diffusions\")\n",
    "pdir_timestamps = pdir_diffusion / \"timestamps/\"\n",
    "pdir_edges = pdir_diffusion / \"edges/\"\n",
    "\n",
    "pdir_timestamps.mkdir(parents=True, exist_ok=True)\n",
    "pdir_edges.mkdir(parents=True, exist_ok=True)\n",
    "\n",
    "with pdir_graph.open(\"rb\") as fh:\n",
    "  G = nx.from_scipy_sparse_array(sp.io.mmread(fh), create_using=nx.DiGraph)\n",
    "\n",
    "for i in range(200):\n",
    "  d_edges, d_timestamp = monte_carlo_diffusion(G, 1)\n",
    "  p_ts = pdir_timestamps / f\"{i}.txt\"\n",
    "  p_edges = pdir_edges / f\"{i}.edgelist\"\n",
    "  with p_ts.open(\"w\") as fh:\n",
    "    for ts in d_timestamp:\n",
    "      fh.write(\" \".join(map(str, ts)) + \"\\n\")\n",
    "  with p_edges.open(\"w\") as fh:\n",
    "    fh.write(f\"#Source Target\\n\")\n",
    "    for e in d_edges:\n",
    "      fh.write(\" \".join(map(str, e)) + \"\\n\")"
   ]
  }
 ],
 "metadata": {
  "kernelspec": {
   "display_name": ".venv",
   "language": "python",
   "name": "python3"
  },
  "language_info": {
   "codemirror_mode": {
    "name": "ipython",
    "version": 3
   },
   "file_extension": ".py",
   "mimetype": "text/x-python",
   "name": "python",
   "nbconvert_exporter": "python",
   "pygments_lexer": "ipython3",
   "version": "3.12.4"
  }
 },
 "nbformat": 4,
 "nbformat_minor": 2
}
