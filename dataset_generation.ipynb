{
 "cells": [
  {
   "cell_type": "markdown",
   "metadata": {},
   "source": [
    "Erdos-Renyi"
   ]
  },
  {
   "cell_type": "code",
   "execution_count": 6,
   "metadata": {},
   "outputs": [
    {
     "name": "stdout",
     "output_type": "stream",
     "text": [
      "4999918\n"
     ]
    }
   ],
   "source": [
    "import random\n",
    "import io\n",
    "import networkx as nx\n",
    "import scipy as sp\n",
    "\n",
    "n = 10000\n",
    "p = 0.05\n",
    "G = nx.fast_gnp_random_graph(n, p, directed=True)\n",
    "print(G.number_of_edges())\n",
    "\n",
    "for (u,v,w) in G.edges(data=True):\n",
    "    w['weight'] = random.uniform(0, 0.6)\n",
    "\n",
    "fh = open(f\"./datasets/synthetic/er_{n}_{str(p).replace('.', '')}.mtx\", \"wb\")\n",
    "m = nx.to_scipy_sparse_array(G)\n",
    "sp.io.mmwrite(fh, m, precision=5)"
   ]
  },
  {
   "cell_type": "markdown",
   "metadata": {},
   "source": [
    "Scale Free"
   ]
  },
  {
   "cell_type": "code",
   "execution_count": 9,
   "metadata": {},
   "outputs": [
    {
     "name": "stdout",
     "output_type": "stream",
     "text": [
      "21624\n"
     ]
    }
   ],
   "source": [
    "n = 10000\n",
    "a = 0.41\n",
    "b = 0.54\n",
    "c = 0.05\n",
    "G = nx.scale_free_graph(n, a, b, c)\n",
    "print(G.number_of_edges())\n",
    "\n",
    "for (u,v,w) in G.edges(data=True):\n",
    "    w['weight'] = random.uniform(0, 0.6)\n",
    "\n",
    "fh = open(f\"./datasets/synthetic/sf_{n}_{str(a).replace('.', '')}_{str(b).replace('.', '')}_{str(c).replace('.', '')}.mtx\", \"wb\")\n",
    "m = nx.to_scipy_sparse_array(G)\n",
    "sp.io.mmwrite(fh, m, precision=5)"
   ]
  },
  {
   "cell_type": "markdown",
   "metadata": {},
   "source": [
    "Higgs"
   ]
  },
  {
   "cell_type": "code",
   "execution_count": 10,
   "metadata": {},
   "outputs": [],
   "source": [
    "fh = open(\"./graphs/higgs-social_network.edgelist\", \"rb\")\n",
    "G = nx.read_edgelist(fh, create_using=nx.DiGraph)\n",
    "fh.close()\n",
    "\n",
    "for (u,v,w) in G.edges(data=True):\n",
    "    w['weight'] = random.uniform(0, 0.6)\n",
    "\n",
    "fh = open(f\"./datasets/real/higgs.mtx\", \"wb\")\n",
    "m = nx.to_scipy_sparse_array(G)\n",
    "sp.io.mmwrite(fh, m, precision=5)"
   ]
  },
  {
   "cell_type": "code",
   "execution_count": 11,
   "metadata": {},
   "outputs": [],
   "source": [
    "fh = open(\"./graphs/twitter_combined.txt\", \"rb\")\n",
    "G = nx.read_edgelist(fh, create_using=nx.DiGraph, nodetype=int)\n",
    "\n",
    "for (u,v,w) in G.edges(data=True):\n",
    "    w['weight'] = random.uniform(0, 0.6)\n",
    "\n",
    "fh = open(f\"./datasets/real/ego-twitter.mtx\", \"wb\")\n",
    "m = nx.to_scipy_sparse_array(G)\n",
    "sp.io.mmwrite(fh, m, precision=5)"
   ]
  },
  {
   "cell_type": "code",
   "execution_count": 12,
   "metadata": {},
   "outputs": [],
   "source": [
    "fh = open(\"./graphs/facebook_combined.txt\", \"rb\")\n",
    "G = nx.read_edgelist(fh, create_using=nx.Graph, nodetype=int)\n",
    "\n",
    "G = G.to_directed()\n",
    "for (u,v,w) in G.edges(data=True):\n",
    "    w['weight'] = random.uniform(0, 0.6)\n",
    "\n",
    "fh = open(f\"./datasets/real/ego-facebook.mtx\", \"wb\")\n",
    "m = nx.to_scipy_sparse_array(G)\n",
    "sp.io.mmwrite(fh, m, precision=5)"
   ]
  }
 ],
 "metadata": {
  "kernelspec": {
   "display_name": ".venv",
   "language": "python",
   "name": "python3"
  },
  "language_info": {
   "codemirror_mode": {
    "name": "ipython",
    "version": 3
   },
   "file_extension": ".py",
   "mimetype": "text/x-python",
   "name": "python",
   "nbconvert_exporter": "python",
   "pygments_lexer": "ipython3",
   "version": "3.12.4"
  }
 },
 "nbformat": 4,
 "nbformat_minor": 2
}
